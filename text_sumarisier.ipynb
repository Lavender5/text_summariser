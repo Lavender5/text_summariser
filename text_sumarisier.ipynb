{
  "nbformat": 4,
  "nbformat_minor": 0,
  "metadata": {
    "colab": {
      "name": "text_sumarisier.ipynb",
      "provenance": [],
      "include_colab_link": true
    },
    "kernelspec": {
      "name": "python3",
      "display_name": "Python 3"
    },
    "language_info": {
      "name": "python"
    }
  },
  "cells": [
    {
      "cell_type": "markdown",
      "metadata": {
        "id": "view-in-github",
        "colab_type": "text"
      },
      "source": [
        "<a href=\"https://colab.research.google.com/github/Lavender5/text_summariser/blob/main/text_sumarisier.ipynb\" target=\"_parent\"><img src=\"https://colab.research.google.com/assets/colab-badge.svg\" alt=\"Open In Colab\"/></a>"
      ]
    },
    {
      "cell_type": "markdown",
      "source": [
        "# Text Summarisation\n",
        "\n",
        "Recall an earlier notebook where you were given a task to summarise online content and produce a report. We converted an audio file to text. Similarly, we could write a notebook to convert a PDF or Word document to text or Web pages to text. The strategy is to convert everything to text, summarise the text, and use the summary in the final report.\n",
        "\n",
        "# The Challenge\n",
        "\n",
        "Create a project to summarise text and publish the project in Binder. \n",
        "\n",
        "You can choose how to input the text.  Some ideas include pasting it into a string, reading from a file, extract from a PDF or a webpage. \n",
        " \n",
        "It is okay to follow a online tutoirial or youtube video but make sure you have some understanding of what you are doing. You can ask you tutor for help if needed.  They will either help search, or perhaps explain the code in a tutorial.\n",
        "\n",
        "\n",
        "# Task 0 - Initialise a NEW repository\n",
        "\n",
        "We are going to deploy this notebook using Binder.\n",
        "\n",
        "* Initialise a new PUBLIC GitHub repository, say called, text_summariser.\n",
        "* Import this notebook into the new repository\n",
        "\n"
      ],
      "metadata": {
        "id": "SmVEXRTA1wZn"
      }
    },
    {
      "cell_type": "markdown",
      "source": [
        "#Notes\n",
        "* Find out how python can summarise text\n",
        "* Use video or blog post\n",
        "* Find out what packgages to use\n",
        "\n",
        "#Binder link\n",
        "https://notebooks.gesis.org/binder/jupyter/user/lavender5-text_summariser-lnulwmju/lab"
      ],
      "metadata": {
        "id": "Y42sKQcZIQjr"
      }
    },
    {
      "cell_type": "code",
      "source": [
        "!pip install sh <curl -q https://platform.activestate.com/dl/cli/install.sh --activate-default Pizza-Team/Text-Summarization"
      ],
      "metadata": {
        "id": "48RNuGBQIHQ0",
        "colab": {
          "base_uri": "https://localhost:8080/"
        },
        "outputId": "14184769-cb45-464d-89eb-86c9ed67aea8"
      },
      "execution_count": 3,
      "outputs": [
        {
          "output_type": "stream",
          "name": "stdout",
          "text": [
            "/bin/bash: curl: No such file or directory\n"
          ]
        }
      ]
    },
    {
      "cell_type": "code",
      "source": [
        "!pip -q install newspaper3k\n",
        "from newspaper import Article\n",
        "\n",
        "url = 'https://www.sciencedaily.com/releases/2021/08/210811162816.htm'\n",
        "article = Article(url)\n",
        "article.download()\n",
        "article.parse()"
      ],
      "metadata": {
        "id": "A9yhW5SLTjcL"
      },
      "execution_count": 6,
      "outputs": []
    },
    {
      "cell_type": "code",
      "source": [
        "article.text"
      ],
      "metadata": {
        "id": "yZOAj-LOT76y",
        "outputId": "7b492434-c59b-46a2-c602-0281e006a45e",
        "colab": {
          "base_uri": "https://localhost:8080/",
          "height": 782
        }
      },
      "execution_count": 7,
      "outputs": [
        {
          "output_type": "execute_result",
          "data": {
            "text/plain": [
              "'It is increasingly clear that the prolonged drought conditions, record-breaking heat, sustained wildfires, and frequent, more extreme storms experienced in recent years are a direct result of rising global temperatures brought on by humans\\' addition of carbon dioxide to the atmosphere. And a new MIT study on extreme climate events in Earth\\'s ancient history suggests that today\\'s planet may become more volatile as it continues to warm.\\n\\nThe study, appearing today in Science Advances, examines the paleoclimate record of the last 66 million years, during the Cenozoic era, which began shortly after the extinction of the dinosaurs. The scientists found that during this period, fluctuations in the Earth\\'s climate experienced a surprising \"warming bias.\" In other words, there were far more warming events -- periods of prolonged global warming, lasting thousands to tens of thousands of years -- than cooling events. What\\'s more, warming events tended to be more extreme, with greater shifts in temperature, than cooling events.\\n\\nThe researchers say a possible explanation for this warming bias may lie in a \"multiplier effect,\" whereby a modest degree of warming -- for instance from volcanoes releasing carbon dioxide into the atmosphere -- naturally speeds up certain biological and chemical processes that enhance these fluctuations, leading, on average, to still more warming.\\n\\nInterestingly, the team observed that this warming bias disappeared about 5 million years ago, around the time when ice sheets started forming in the Northern Hemisphere. It\\'s unclear what effect the ice has had on the Earth\\'s response to climate shifts. But as today\\'s Arctic ice recedes, the new study suggests that a multiplier effect may kick back in, and the result may be a further amplification of human-induced global warming.\\n\\n\"The Northern Hemisphere\\'s ice sheets are shrinking, and could potentially disappear as a long-term consequence of human actions\" says the study\\'s lead author Constantin Arnscheidt, a graduate student in MIT\\'s Department of Earth, Atmospheric and Planetary Sciences. \"Our research suggests that this may make the Earth\\'s climate fundamentally more susceptible to extreme, long-term global warming events such as those seen in the geologic past.\"\\n\\nArnscheidt\\'s study co-author is Daniel Rothman, professor of geophysics at MIT, and co-founder and co-director of MIT\\'s Lorenz Center.\\n\\nadvertisement\\n\\nA volatile push\\n\\nFor their analysis, the team consulted large databases of sediments containing deep-sea benthic foraminifera -- single-celled organisms that have been around for hundreds of millions of years and whose hard shells are preserved in sediments. The composition of these shells is affected by the ocean temperatures as organisms are growing; the shells are therefore considered a reliable proxy for the Earth\\'s ancient temperatures.\\n\\nFor decades, scientists have analyzed the composition of these shells, collected from all over the world and dated to various time periods, to track how the Earth\\'s temperature has fluctuated over millions of years.\\n\\n\"When using these data to study extreme climate events, most studies have focused on individual large spikes in temperature, typically of a few degrees Celsius warming,\" Arnscheidt says. \"Instead, we tried to look at the overall statistics and consider all the fluctuations involved, rather than picking out the big ones.\"\\n\\nThe team first carried out a statistical analysis of the data and observed that, over the last 66 million years, the distribution of global temperature fluctuations didn\\'t resemble a standard bell curve, with symmetric tails representing an equal probability of extreme warm and extreme cool fluctuations. Instead, the curve was noticeably lopsided, skewed toward more warm than cool events. The curve also exhibited a noticeably longer tail, representing warm events that were more extreme, or of higher temperature, than the most extreme cold events.\\n\\nadvertisement\\n\\n\"This indicates there\\'s some sort of amplification relative to what you would otherwise have expected,\" Arnscheidt says. \"Everything\\'s pointing to something fundamental that\\'s causing this push, or bias toward warming events.\"\\n\\n\"It\\'s fair to say that the Earth system becomes more volatile, in a warming sense,\" Rothman adds.\\n\\nA warming multiplier\\n\\nThe team wondered whether this warming bias might have been a result of \"multiplicative noise\" in the climate-carbon cycle. Scientists have long understood that higher temperatures, up to a point, tend to speed up biological and chemical processes. Because the carbon cycle, which is a key driver of long-term climate fluctuations, is itself composed of such processes, increases in temperature may lead to larger fluctuations, biasing the system towards extreme warming events.\\n\\nIn mathematics, there exists a set of equations that describes such general amplifying, or multiplicative effects. The researchers applied this multiplicative theory to their analysis to see whether the equations could predict the asymmetrical distribution, including the degree of its skew and the length of its tails.\\n\\nIn the end, they found that the data, and the observed bias toward warming, could be explained by the multiplicative theory. In other words, it\\'s very likely that, over the last 66 million years, periods of modest warming were on average further enhanced by multiplier effects, such as the response of biological and chemical processes that further warmed the planet.\\n\\nAs part of the study, the researchers also looked at the correlation between past warming events and changes in Earth\\'s orbit. Over hundreds of thousands of years, Earth\\'s orbit around the sun regularly becomes more or less elliptical. But scientists have wondered why many past warming events appeared to coincide with these changes, and why these events feature outsized warming compared with what the change in Earth\\'s orbit could have wrought on its own.\\n\\nSo, Arnscheidt and Rothman incorporated the Earth\\'s orbital changes into the multiplicative model and their analysis of Earth\\'s temperature changes, and found that multiplier effects could predictably amplify, on average, the modest temperature rises due to changes in Earth\\'s orbit.\\n\\n\"Climate warms and cools in synchrony with orbital changes, but the orbital cycles themselves would predict only modest changes in climate,\" Rothman says. \"But if we consider a multiplicative model, then modest warming, paired with this multiplier effect, can result in extreme events that tend to occur at the same time as these orbital changes.\"\\n\\n\"Humans are forcing the system in a new way,\" Arnscheidt adds. \"And this study is showing that, when we increase temperature, we\\'re likely going to interact with these natural, amplifying effects.\"\\n\\nThis research was supported, in part, by MIT\\'s School of Science.'"
            ],
            "application/vnd.google.colaboratory.intrinsic+json": {
              "type": "string"
            }
          },
          "metadata": {},
          "execution_count": 7
        }
      ]
    }
  ]
}